{
  "nbformat": 4,
  "nbformat_minor": 0,
  "metadata": {
    "colab": {
      "name": "Moringa_Data_Science_Prep_W4_Independent_Project_2021_05_Kevin_Kirotich_Python_Notebook",
      "provenance": [],
      "collapsed_sections": []
    },
    "kernelspec": {
      "name": "python3",
      "display_name": "Python 3"
    },
    "language_info": {
      "name": "python"
    }
  },
  "cells": [
    {
      "cell_type": "code",
      "metadata": {
        "id": "ldXzx-bHdeys"
      },
      "source": [
        "import pandas as pd\n",
        "import numpy as np\n"
      ],
      "execution_count": 1,
      "outputs": []
    },
    {
      "cell_type": "code",
      "metadata": {
        "id": "Q3-SUa_7dlFH"
      },
      "source": [
        "\n",
        "url = \"http://bit.ly/autolib_dataset\"\n",
        "\n",
        "df =pd.read_csv(url)\n",
        "\n",
        "df"
      ],
      "execution_count": null,
      "outputs": []
    },
    {
      "cell_type": "code",
      "metadata": {
        "id": "V4FdBX5poyur"
      },
      "source": [
        "#checking for null values\n",
        "df.isnull()"
      ],
      "execution_count": null,
      "outputs": []
    },
    {
      "cell_type": "code",
      "metadata": {
        "id": "je5sz0ccpFsp"
      },
      "source": [
        "#drop null columns\n",
        "df=df.drop(labels=['Displayed comment'], axis=1)\n",
        "df=df.drop(labels=['Scheduled at'], axis=1)"
      ],
      "execution_count": 37,
      "outputs": []
    },
    {
      "cell_type": "code",
      "metadata": {
        "colab": {
          "base_uri": "https://localhost:8080/"
        },
        "id": "eOAMZfgGI-O1",
        "outputId": "a3061c4e-0980-47ec-9c6d-6b3eb0a5f703"
      },
      "source": [
        "df.shape"
      ],
      "execution_count": 24,
      "outputs": [
        {
          "output_type": "execute_result",
          "data": {
            "text/plain": [
              "(5000, 23)"
            ]
          },
          "metadata": {
            "tags": []
          },
          "execution_count": 24
        }
      ]
    },
    {
      "cell_type": "code",
      "metadata": {
        "id": "Lscv3TMYAd6u"
      },
      "source": [
        "df.nunique()"
      ],
      "execution_count": null,
      "outputs": []
    },
    {
      "cell_type": "code",
      "metadata": {
        "id": "lFHpYuWEJGeG"
      },
      "source": [
        "\n",
        "df = df.drop_duplicates()\n",
        "df"
      ],
      "execution_count": null,
      "outputs": []
    },
    {
      "cell_type": "code",
      "metadata": {
        "colab": {
          "base_uri": "https://localhost:8080/"
        },
        "id": "lysojE7P1c-7",
        "outputId": "7a622d49-37cc-4c51-c5e2-33ae4596c37b"
      },
      "source": [
        "#finding the lowest count of blue coloured car in station\n",
        "min_val = df[['BlueCarCounter']].min()\n",
        "print(\"The highest count of blue car is: \")\n",
        "min_val "
      ],
      "execution_count": 69,
      "outputs": [
        {
          "output_type": "stream",
          "text": [
            "The highest count of blue car is: \n"
          ],
          "name": "stdout"
        },
        {
          "output_type": "execute_result",
          "data": {
            "text/plain": [
              "BlueCarCounter    0\n",
              "dtype: int64"
            ]
          },
          "metadata": {
            "tags": []
          },
          "execution_count": 69
        }
      ]
    },
    {
      "cell_type": "code",
      "metadata": {
        "colab": {
          "base_uri": "https://localhost:8080/"
        },
        "id": "7ScLVYrlTpCO",
        "outputId": "78e27477-f78f-4ac6-b518-c069bd45d26c"
      },
      "source": [
        "#finding the highest available slots\n",
        "max_val = df[['Slots']].max()\n",
        "max_val"
      ],
      "execution_count": 71,
      "outputs": [
        {
          "output_type": "execute_result",
          "data": {
            "text/plain": [
              "Slots    7\n",
              "dtype: int64"
            ]
          },
          "metadata": {
            "tags": []
          },
          "execution_count": 71
        }
      ]
    },
    {
      "cell_type": "code",
      "metadata": {
        "id": "6INdPpLkP22s"
      },
      "source": [
        "df[['Slots']].max(axis=1)"
      ],
      "execution_count": null,
      "outputs": []
    },
    {
      "cell_type": "code",
      "metadata": {
        "id": "FLiuqROnSsM5"
      },
      "source": [
        "from natsort import index_natsorted\n",
        "max_blue.sort_values(\n",
        "    by='Date', key = lambda x: np.argsort(index_natsorted(max_blue['Date']))  \n",
        ")\n"
      ],
      "execution_count": null,
      "outputs": []
    },
    {
      "cell_type": "code",
      "metadata": {
        "id": "7t1N247J-6HG"
      },
      "source": [
        "#find what time had more blue car hire entries\n",
        "max_blue[['hour']].mode()"
      ],
      "execution_count": null,
      "outputs": []
    },
    {
      "cell_type": "code",
      "metadata": {
        "id": "7Dyoo0DDEs2O"
      },
      "source": [
        "df.head(1)"
      ],
      "execution_count": null,
      "outputs": []
    },
    {
      "cell_type": "code",
      "metadata": {
        "id": "vbgHfJcsELsD"
      },
      "source": [
        "#Convert to column header to pascal case \n",
        "df.columns = ['Address','Cars','BlueCarCounter','UtilibCounter','Utilib1.4Counter','ChargeSlots','ChargingStatus','City','Id','Kind','GeoPoint','PostalCode','PublicName','RentalStatus','Slots','StationType','Status','SubscriptionStatus','Year','Month','Day','Hour','Minute']\n",
        "df.columns.values.tolist()"
      ],
      "execution_count": null,
      "outputs": []
    },
    {
      "cell_type": "code",
      "metadata": {
        "id": "vKBhXC2aB7XK"
      },
      "source": [
        "#merging date time to one column\n",
        "df['Date'] = pd.to_datetime(df[['Year','Month','Day','Hour','Minute']])\n",
        "df\n",
        "\n",
        "#dropin table\n",
        "df.drop(['Year','Month','Day','Hour','Minute'], axis=1 ,inplace=True)\n",
        "df"
      ],
      "execution_count": null,
      "outputs": []
    },
    {
      "cell_type": "code",
      "metadata": {
        "id": "L5091z0mPK5F"
      },
      "source": [
        "#how many stations are not operational i.e broken\n",
        "count =0\n",
        "for c in df['RentalStatus']:\n",
        "  if c == \"broken\":\n",
        "    print(\" Station number {} is broken.\".format(count))\n",
        "    count += 1\n"
      ],
      "execution_count": null,
      "outputs": []
    },
    {
      "cell_type": "code",
      "metadata": {
        "id": "SarrP2QgSAp0"
      },
      "source": [
        "#most used station per ID\n",
        "df['Id'].mode()"
      ],
      "execution_count": null,
      "outputs": []
    },
    {
      "cell_type": "code",
      "metadata": {
        "colab": {
          "base_uri": "https://localhost:8080/"
        },
        "id": "9Fp7aCE-Rz_6",
        "outputId": "fc1efe7e-9e01-4ab1-a09e-a1cfb56a076c"
      },
      "source": [
        "for c in df['Id']:\n",
        "  if c == \"paris-portedemontrouge-8\":\n",
        "    print(\"the most visited station  is {}.\".format(c))\n",
        "    break\n"
      ],
      "execution_count": 87,
      "outputs": [
        {
          "output_type": "stream",
          "text": [
            "the most visited station  is paris-portedemontrouge-8.\n"
          ],
          "name": "stdout"
        }
      ]
    }
  ]
}